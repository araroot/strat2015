{
 "cells": [
  {
   "cell_type": "code",
   "execution_count": 6,
   "metadata": {
    "collapsed": false,
    "scrolled": true
   },
   "outputs": [],
   "source": [
    "from urllib.request import urlopen\n",
    "from urllib.error import HTTPError\n",
    "from bs4 import BeautifulSoup\n",
    "import csv\n",
    "\n",
    "def add_fund_data(filename, fdetail, rows):\n",
    "    with open(filename, \"a\") as myfile:\n",
    "        for row in rows[1:]:\n",
    "            cells = row.find_all(\"td\")\n",
    "            if 'Total Stock' in cells[1].get_text(): break\n",
    "            myfile.write('%s,%s,%s'%(fdetail['name'],fdetail['fundid'], fdetail['date']))\n",
    "            for cell in cells[1:]: myfile.write(',%s'%cell.get_text())\n",
    "            myfile.write('\\n')\n",
    "\n",
    "def append_pf_details(pf_file, fundmaster_file):\n",
    "    data_exists = {} # Make it fool proof so that running again, won't hurt!\n",
    "    with open(pf_file, 'r') as myfile:\n",
    "        reader = csv.DictReader(myfile)\n",
    "        for row in reader: data_exists[row['fundid'] + '_' + row['date']] = 1\n",
    "\n",
    "    with open(fundmaster_file, 'r') as myfile:\n",
    "        reader = csv.DictReader(myfile)\n",
    "        for row in reader:\n",
    "            html = urlopen(row['url'])\n",
    "            soup = BeautifulSoup(html.read(), \"html.parser\")\n",
    "            fdetail = {}\n",
    "            fdetail['name'] = soup.find(id='ctl00_ContentPlaceHolder1_ucQuoteHeader_lblName').get_text()\n",
    "            fdetail['fundid'] = soup.find(id='ctl00_ContentPlaceHolder1_ucQuoteHeader_spnCode').get_text()\n",
    "            fdetail['date'] = soup.find(id='ctl00_ContentPlaceHolder1_lblPfSummaryDate').get_text()\n",
    "            fundkey = fdetail['fundid'] + '_' + fdetail['date']\n",
    "            if fundkey in data_exists: \n",
    "                print ('SKIPPING as Data exists for %s %s'%(fdetail['name'], fdetail['date']))\n",
    "                continue\n",
    "            rows = soup.find(\"\", {\"class\": \"pf_detailed\"}).find(\"tbody\").find_all(\"tr\")\n",
    "            add_fund_data(pf_file, fdetail, rows)\n",
    "            print ('Added for %s %s'%(fdetail['name'], fdetail['date']))\n",
    "    \n",
    "\n",
    "def generate_universe(pf_file, map_file, out_file):\n",
    "    missing, existing = set(), set()\n",
    "    symbol_map = {}\n",
    "    \n",
    "    with open(map_file, 'r') as myfile:\n",
    "        reader = csv.DictReader(myfile)\n",
    "        for row in reader: symbol_map[row['Mstarname']] = (row['NSE'], row['BSE'])\n",
    "    \n",
    "    with open(pf_file, 'r') as myfile:\n",
    "        reader = csv.DictReader(myfile)\n",
    "        for row in reader: \n",
    "            if (row['name'] in symbol_map): \n",
    "                existing.add(row['name'])\n",
    "            else: \n",
    "                missing.add(row['name'])\n",
    "    \n",
    "    if len(missing) > 0: print ('Fix these:', missing); return\n",
    "\n",
    "    with open(out_file, \"w\") as myfile:\n",
    "        myfile.write('%s,%s,%s\\n'%('Mstarname', 'NSE', 'BSE'))\n",
    "        for s in existing: \n",
    "            nse, bse = symbol_map[s][0], symbol_map[s][1]\n",
    "            myfile.write('%s,%s,%s\\n'%(s,nse,bse))\n",
    "        \n",
    "    \n",
    "if __name__ == '__main__':\n",
    "    pf_file = 'pf_details.csv'\n",
    "    fundmaster_file = 'fund_names.csv'\n",
    "    map_file = 'symbol_map.csv'\n",
    "    out_file = 'master_list.csv'\n",
    "    #append_pf_details(pf_file, fundmaster_file)\n",
    "    generate_universe(pf_file, map_file, out_file)\n",
    "    \n",
    "\n",
    "    \n",
    "\n"
   ]
  },
  {
   "cell_type": "code",
   "execution_count": 2,
   "metadata": {
    "collapsed": false
   },
   "outputs": [
    {
     "name": "stdout",
     "output_type": "stream",
     "text": [
      "hello 2\n"
     ]
    }
   ],
   "source": [
    "a = set()\n",
    "a.add('hello')\n",
    "a.add('world')\n",
    "print('hello', len(a))"
   ]
  },
  {
   "cell_type": "code",
   "execution_count": null,
   "metadata": {
    "collapsed": true
   },
   "outputs": [],
   "source": []
  }
 ],
 "metadata": {
  "kernelspec": {
   "display_name": "Python 3",
   "language": "python",
   "name": "python3"
  },
  "language_info": {
   "codemirror_mode": {
    "name": "ipython",
    "version": 3
   },
   "file_extension": ".py",
   "mimetype": "text/x-python",
   "name": "python",
   "nbconvert_exporter": "python",
   "pygments_lexer": "ipython3",
   "version": "3.4.3"
  }
 },
 "nbformat": 4,
 "nbformat_minor": 0
}
